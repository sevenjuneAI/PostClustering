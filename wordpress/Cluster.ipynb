{
  "nbformat": 4,
  "nbformat_minor": 0,
  "metadata": {
    "colab": {
      "provenance": [],
      "authorship_tag": "ABX9TyOSRcNmTEPDIlnsvpYYNJmN",
      "include_colab_link": true
    },
    "kernelspec": {
      "name": "python3",
      "display_name": "Python 3"
    },
    "language_info": {
      "name": "python"
    }
  },
  "cells": [
    {
      "cell_type": "markdown",
      "metadata": {
        "id": "view-in-github",
        "colab_type": "text"
      },
      "source": [
        "<a href=\"https://colab.research.google.com/github/eeevilll/web-scrapying/blob/main/EEE-Cluster.ipynb\" target=\"_parent\"><img src=\"https://colab.research.google.com/assets/colab-badge.svg\" alt=\"Open In Colab\"/></a>"
      ]
    },
    {
      "cell_type": "code",
      "source": [
        "import pandas as pd"
      ],
      "metadata": {
        "id": "jiXc0Ktdd0Hp"
      },
      "execution_count": null,
      "outputs": []
    },
    {
      "cell_type": "code",
      "source": [
        "from io import StringIO"
      ],
      "metadata": {
        "id": "3chBn-5Yd_dM"
      },
      "execution_count": null,
      "outputs": []
    },
    {
      "cell_type": "code",
      "source": [
        "from google.colab import drive"
      ],
      "metadata": {
        "id": "0ua983VSejTo"
      },
      "execution_count": null,
      "outputs": []
    },
    {
      "cell_type": "code",
      "source": [
        "drive.mount('/content/drive')"
      ],
      "metadata": {
        "colab": {
          "base_uri": "https://localhost:8080/"
        },
        "id": "_hl9R8q6kK7C",
        "outputId": "d0b4a802-6f90-4b0b-dacf-3c04c706c67f"
      },
      "execution_count": null,
      "outputs": [
        {
          "output_type": "stream",
          "name": "stdout",
          "text": [
            "Drive already mounted at /content/drive; to attempt to forcibly remount, call drive.mount(\"/content/drive\", force_remount=True).\n"
          ]
        }
      ]
    },
    {
      "cell_type": "code",
      "source": [
        "file_path =!ls /content/drive/MyDrive/ColabNotebooks/json/data.json\n"
      ],
      "metadata": {
        "id": "5G3hyd871ISb"
      },
      "execution_count": null,
      "outputs": []
    },
    {
      "cell_type": "code",
      "source": [
        "!ls /content/drive/MyDrive/'Colab Notebooks'/json"
      ],
      "metadata": {
        "colab": {
          "base_uri": "https://localhost:8080/"
        },
        "id": "ugZ56ivx1b3m",
        "outputId": "07689f01-d602-4a28-e703-c401bc7b42b7"
      },
      "execution_count": null,
      "outputs": [
        {
          "output_type": "stream",
          "name": "stdout",
          "text": [
            "'Copy of data.json'   data.json\n"
          ]
        }
      ]
    },
    {
      "cell_type": "code",
      "source": [
        "from google.colab import drive\n",
        "drive.mount('/content/drive')"
      ],
      "metadata": {
        "colab": {
          "base_uri": "https://localhost:8080/"
        },
        "id": "7wObE-Xq2Q0-",
        "outputId": "30be6887-b461-4cd8-e959-797a26d74f39"
      },
      "execution_count": null,
      "outputs": [
        {
          "output_type": "stream",
          "name": "stdout",
          "text": [
            "Drive already mounted at /content/drive; to attempt to forcibly remount, call drive.mount(\"/content/drive\", force_remount=True).\n"
          ]
        }
      ]
    },
    {
      "cell_type": "code",
      "source": [],
      "metadata": {
        "id": "wfpYY2gX7XZP"
      },
      "execution_count": null,
      "outputs": []
    },
    {
      "cell_type": "code",
      "source": [
        "import pandas as pd\n",
        "\n",
        "\n",
        "json_content = [\n",
        "    {\"text\": \"Pro-Trump politicians are split by a fault line over Russia that could have far graver global implications\"},\n",
        "    {\"text\": \"Video shows Ukraine’s last moments of defense in Avdiivka\"},\n",
        "    {\"text\": \"Navalny’s mother asks Putin to release her son’s body in video\"},\n",
        "    {\"text\": \"2 Russian fighter jets shot down in east Ukraine, Air Force says\"},\n",
        "    {\"text\": \"Report: North Korean missile fired by Russia against Ukraine contained US and European components\"},\n",
        "    {\"text\": \"US-Russian citizen arrested for treason, accused of collecting funds for Ukraine\"},\n",
        "    {\"text\": \"Yulia Navalnaya is raising hopes for a renewed Russian opposition\"},\n",
        "    {\"text\": \"Notorious drug lord’s prison escape threw Ecuador into chaos\"},\n",
        "    {\"text\": \"‘He lives like a king’: Video shows escaped drug lord’s lavish prison accommodations\"},\n",
        "    {\"text\": \"US vetoes UN resolution calling for immediate ceasefire in Gaza after proposing a temporary halt in fighting\"},\n",
        "    {\"text\": \"UN experts demand investigation into claims Israeli forces killed, raped and sexually assaulted Palestinian women and girls\"}\n",
        "]\n",
        "\n",
        "\n",
        "df = pd.DataFrame(json_content)\n",
        "\n",
        "\n",
        "df['merged_text'] = df['text']\n",
        "\n",
        "\n",
        "df['merged_text'] = df['merged_text'].str.replace('[^\\w\\s]', '')\n",
        "\n",
        "print(df.head())\n"
      ],
      "metadata": {
        "colab": {
          "base_uri": "https://localhost:8080/"
        },
        "id": "98VJbfno7Xfc",
        "outputId": "744582c3-c425-4642-e6f4-e3557ae299fe"
      },
      "execution_count": null,
      "outputs": [
        {
          "output_type": "stream",
          "name": "stdout",
          "text": [
            "                                                text  \\\n",
            "0  Pro-Trump politicians are split by a fault lin...   \n",
            "1  Video shows Ukraine’s last moments of defense ...   \n",
            "2  Navalny’s mother asks Putin to release her son...   \n",
            "3  2 Russian fighter jets shot down in east Ukrai...   \n",
            "4  Report: North Korean missile fired by Russia a...   \n",
            "\n",
            "                                         merged_text  \n",
            "0  ProTrump politicians are split by a fault line...  \n",
            "1  Video shows Ukraines last moments of defense i...  \n",
            "2  Navalnys mother asks Putin to release her sons...  \n",
            "3  2 Russian fighter jets shot down in east Ukrai...  \n",
            "4  Report North Korean missile fired by Russia ag...  \n"
          ]
        },
        {
          "output_type": "stream",
          "name": "stderr",
          "text": [
            "<ipython-input-151-bb8435416b6a>:25: FutureWarning: The default value of regex will change from True to False in a future version.\n",
            "  df['merged_text'] = df['merged_text'].str.replace('[^\\w\\s]', '')  # Remove punctuation\n"
          ]
        }
      ]
    },
    {
      "cell_type": "code",
      "source": [
        "from sklearn.feature_extraction.text import TfidfVectorizer\n",
        "import pandas as pd\n",
        "\n",
        "\n",
        "data = [\n",
        "    {\"title\": \"Pro-Trump politicians are split by a fault line over Russia that could have far graver global implications\"},\n",
        "    {\"title\": \"Video shows Ukraine’s last moments of defense in Avdiivka\"},\n",
        "    {\"title\": \"Navalny’s mother asks Putin to release her son’s body in video\"},\n",
        "    {\"title\": \"2 Russian fighter jets shot down in east Ukraine, Air Force says\"},\n",
        "    {\"title\": \"Report: North Korean missile fired by Russia against Ukraine contained US and European components\"},\n",
        "    {\"title\": \"US-Russian citizen arrested for treason, accused of collecting funds for Ukraine\"},\n",
        "    {\"title\": \"Yulia Navalnaya is raising hopes for a renewed Russian opposition\"},\n",
        "    {\"title\": \"Notorious drug lord’s prison escape threw Ecuador into chaos\"},\n",
        "    {\"title\": \"‘He lives like a king’: Video shows escaped drug lord’s lavish prison accommodations\"},\n",
        "    {\"title\": \"US vetoes UN resolution calling for immediate ceasefire in Gaza after proposing a temporary halt in fighting\"},\n",
        "    {\"title\": \"UN experts demand investigation into claims Israeli forces killed, raped and sexually assaulted Palestinian women and girls\"}\n",
        "]\n",
        "\n",
        "\n",
        "df = pd.DataFrame(data)\n",
        "\n",
        "vectorizer = TfidfVectorizer(max_df=0.9, min_df=1)\n",
        "\n",
        "tfidf_matrix = vectorizer.fit_transform(df['title'])\n",
        "\n",
        "\n",
        "feature_names = vectorizer.get_feature_names_out()\n",
        "\n",
        "\n",
        "print(\"Feature names:\")\n",
        "print(feature_names)\n",
        "\n",
        "\n",
        "print(\"Matrix shape:\", tfidf_matrix.shape)\n"
      ],
      "metadata": {
        "colab": {
          "base_uri": "https://localhost:8080/"
        },
        "id": "P54oONqy-7rO",
        "outputId": "c5093983-cbed-4510-e00d-98566c01542c"
      },
      "execution_count": null,
      "outputs": [
        {
          "output_type": "stream",
          "name": "stdout",
          "text": [
            "Feature names:\n",
            "['accommodations' 'accused' 'after' 'against' 'air' 'and' 'are' 'arrested'\n",
            " 'asks' 'assaulted' 'avdiivka' 'body' 'by' 'calling' 'ceasefire' 'chaos'\n",
            " 'citizen' 'claims' 'collecting' 'components' 'contained' 'could'\n",
            " 'defense' 'demand' 'down' 'drug' 'east' 'ecuador' 'escape' 'escaped'\n",
            " 'european' 'experts' 'far' 'fault' 'fighter' 'fighting' 'fired' 'for'\n",
            " 'force' 'forces' 'funds' 'gaza' 'girls' 'global' 'graver' 'halt' 'have'\n",
            " 'he' 'her' 'hopes' 'immediate' 'implications' 'in' 'into' 'investigation'\n",
            " 'is' 'israeli' 'jets' 'killed' 'king' 'korean' 'last' 'lavish' 'like'\n",
            " 'line' 'lives' 'lord' 'missile' 'moments' 'mother' 'navalnaya' 'navalny'\n",
            " 'north' 'notorious' 'of' 'opposition' 'over' 'palestinian' 'politicians'\n",
            " 'prison' 'pro' 'proposing' 'putin' 'raising' 'raped' 'release' 'renewed'\n",
            " 'report' 'resolution' 'russia' 'russian' 'says' 'sexually' 'shot' 'shows'\n",
            " 'son' 'split' 'temporary' 'that' 'threw' 'to' 'treason' 'trump' 'ukraine'\n",
            " 'un' 'us' 'vetoes' 'video' 'women' 'yulia']\n",
            "Matrix shape: (11, 110)\n"
          ]
        }
      ]
    },
    {
      "cell_type": "code",
      "source": [
        "from sklearn.cluster import KMeans\n",
        "\n",
        "kmeans = KMeans(init='k-means++')\n",
        "\n",
        "\n",
        "kmeans.fit(tfidf_matrix)\n",
        "\n",
        "\n",
        "cluster_labels = kmeans.labels_\n",
        "\n",
        "\n",
        "print(\"Number of elements in each cluster:\")\n",
        "for i in range(len(set(cluster_labels))):\n",
        "    print(f\"Cluster {i}: {sum(cluster_labels == i)} elements\")\n",
        "\n",
        "\n",
        "print(\"\\nContent of the clusters:\")\n",
        "for i in range(len(set(cluster_labels))):\n",
        "    print(f\"Cluster {i}:\")\n",
        "    for j, title in enumerate(df['title'][cluster_labels == i]):\n",
        "        print(f\"{j+1}. {title}\")\n",
        "    print()\n"
      ],
      "metadata": {
        "colab": {
          "base_uri": "https://localhost:8080/"
        },
        "id": "19VoC6_v_qsQ",
        "outputId": "b5509695-8a00-4774-d58c-a3404e094199"
      },
      "execution_count": null,
      "outputs": [
        {
          "output_type": "stream",
          "name": "stderr",
          "text": [
            "/usr/local/lib/python3.10/dist-packages/sklearn/cluster/_kmeans.py:870: FutureWarning: The default value of `n_init` will change from 10 to 'auto' in 1.4. Set the value of `n_init` explicitly to suppress the warning\n",
            "  warnings.warn(\n"
          ]
        },
        {
          "output_type": "stream",
          "name": "stdout",
          "text": [
            "Number of elements in each cluster:\n",
            "Cluster 0: 2 elements\n",
            "Cluster 1: 2 elements\n",
            "Cluster 2: 1 elements\n",
            "Cluster 3: 2 elements\n",
            "Cluster 4: 1 elements\n",
            "Cluster 5: 1 elements\n",
            "Cluster 6: 1 elements\n",
            "Cluster 7: 1 elements\n",
            "\n",
            "Content of the clusters:\n",
            "Cluster 0:\n",
            "1. US-Russian citizen arrested for treason, accused of collecting funds for Ukraine\n",
            "2. Yulia Navalnaya is raising hopes for a renewed Russian opposition\n",
            "\n",
            "Cluster 1:\n",
            "1. Video shows Ukraine’s last moments of defense in Avdiivka\n",
            "2. Navalny’s mother asks Putin to release her son’s body in video\n",
            "\n",
            "Cluster 2:\n",
            "1. UN experts demand investigation into claims Israeli forces killed, raped and sexually assaulted Palestinian women and girls\n",
            "\n",
            "Cluster 3:\n",
            "1. Notorious drug lord’s prison escape threw Ecuador into chaos\n",
            "2. ‘He lives like a king’: Video shows escaped drug lord’s lavish prison accommodations\n",
            "\n",
            "Cluster 4:\n",
            "1. Report: North Korean missile fired by Russia against Ukraine contained US and European components\n",
            "\n",
            "Cluster 5:\n",
            "1. US vetoes UN resolution calling for immediate ceasefire in Gaza after proposing a temporary halt in fighting\n",
            "\n",
            "Cluster 6:\n",
            "1. 2 Russian fighter jets shot down in east Ukraine, Air Force says\n",
            "\n",
            "Cluster 7:\n",
            "1. Pro-Trump politicians are split by a fault line over Russia that could have far graver global implications\n",
            "\n"
          ]
        }
      ]
    },
    {
      "cell_type": "code",
      "source": [
        "import nltk\n",
        "from nltk.corpus import stopwords\n",
        "from nltk.stem.snowball import SnowballStemmer\n",
        "from sklearn.feature_extraction.text import TfidfVectorizer\n",
        "from sklearn.cluster import KMeans\n",
        "import pandas as pd\n",
        "\n",
        "\n",
        "data = [\n",
        "    {\"title\": \"Pro-Trump politicians are split by a fault line over Russia that could have far graver global implications\"},\n",
        "    {\"title\": \"Video shows Ukraine’s last moments of defense in Avdiivka\"},\n",
        "    {\"title\": \"Navalny’s mother asks Putin to release her son’s body in video\"},\n",
        "    {\"title\": \"2 Russian fighter jets shot down in east Ukraine, Air Force says\"},\n",
        "    {\"title\": \"Report: North Korean missile fired by Russia against Ukraine contained US and European components\"},\n",
        "    {\"title\": \"US-Russian citizen arrested for treason, accused of collecting funds for Ukraine\"},\n",
        "    {\"title\": \"Yulia Navalnaya is raising hopes for a renewed Russian opposition\"},\n",
        "    {\"title\": \"Notorious drug lord’s prison escape threw Ecuador into chaos\"},\n",
        "    {\"title\": \"‘He lives like a king’: Video shows escaped drug lord’s lavish prison accommodations\"},\n",
        "    {\"title\": \"US vetoes UN resolution calling for immediate ceasefire in Gaza after proposing a temporary halt in fighting\"},\n",
        "    {\"title\": \"UN experts demand investigation into claims Israeli forces killed, raped and sexually assaulted Palestinian women and girls\"}\n",
        "]\n",
        "\n",
        "df = pd.DataFrame(data)\n",
        "\n",
        "\n",
        "nltk.download('stopwords')\n",
        "stop_words_fr = stopwords.words('french')\n",
        "\n",
        "stemmer_fr = SnowballStemmer('french')\n",
        "\n",
        "\n",
        "if 'description' in df.columns:\n",
        "    df['text_combined'] = df['title'] + ' ' + df['description']\n",
        "else:\n",
        "    df['text_combined'] = df['title']\n",
        "\n",
        "\n",
        "vectorizer = TfidfVectorizer(stop_words=stop_words_fr, tokenizer=stemmer_fr.stem)\n",
        "\n",
        "tfidf_matrix = vectorizer.fit_transform(df['text_combined'])\n",
        "\n",
        "\n",
        "kmeans = KMeans(init='k-means++')\n",
        "\n",
        "\n",
        "kmeans.fit(tfidf_matrix)\n",
        "\n",
        "cluster_labels = kmeans.labels_\n",
        "\n",
        "\n",
        "print(\"Number of elements in each cluster:\")\n",
        "for i in range(len(set(cluster_labels))):\n",
        "    print(f\"Cluster {i}: {sum(cluster_labels == i)} elements\")\n",
        "\n",
        "print(\"\\nContent of the clusters:\")\n",
        "for i in range(len(set(cluster_labels))):\n",
        "    print(f\"Cluster {i}:\")\n",
        "    for j, title_desc in enumerate(df['text_combined'][cluster_labels == i]):\n",
        "        print(f\"{j+1}. {title_desc}\")\n",
        "    print()\n"
      ],
      "metadata": {
        "colab": {
          "base_uri": "https://localhost:8080/"
        },
        "id": "4ZpIX0Zd_62f",
        "outputId": "89ebdbed-4652-4062-e1e1-cbced55d34ac"
      },
      "execution_count": null,
      "outputs": [
        {
          "output_type": "stream",
          "name": "stderr",
          "text": [
            "[nltk_data] Downloading package stopwords to /root/nltk_data...\n",
            "[nltk_data]   Package stopwords is already up-to-date!\n",
            "/usr/local/lib/python3.10/dist-packages/sklearn/feature_extraction/text.py:528: UserWarning: The parameter 'token_pattern' will not be used since 'tokenizer' is not None'\n",
            "  warnings.warn(\n",
            "/usr/local/lib/python3.10/dist-packages/sklearn/feature_extraction/text.py:409: UserWarning: Your stop_words may be inconsistent with your preprocessing. Tokenizing the stop words generated tokens ['a', 'e', 'f', 'i', 'o', 'p', 'q', 'r', 'u', 'v', 'x', 'z', 'é', 'ê', 'û'] not in stop_words.\n",
            "  warnings.warn(\n",
            "/usr/local/lib/python3.10/dist-packages/sklearn/cluster/_kmeans.py:870: FutureWarning: The default value of `n_init` will change from 10 to 'auto' in 1.4. Set the value of `n_init` explicitly to suppress the warning\n",
            "  warnings.warn(\n"
          ]
        },
        {
          "output_type": "stream",
          "name": "stdout",
          "text": [
            "Number of elements in each cluster:\n",
            "Cluster 0: 2 elements\n",
            "Cluster 1: 2 elements\n",
            "Cluster 2: 1 elements\n",
            "Cluster 3: 1 elements\n",
            "Cluster 4: 2 elements\n",
            "Cluster 5: 1 elements\n",
            "Cluster 6: 1 elements\n",
            "Cluster 7: 1 elements\n",
            "\n",
            "Content of the clusters:\n",
            "Cluster 0:\n",
            "1. Pro-Trump politicians are split by a fault line over Russia that could have far graver global implications\n",
            "2. Yulia Navalnaya is raising hopes for a renewed Russian opposition\n",
            "\n",
            "Cluster 1:\n",
            "1. Navalny’s mother asks Putin to release her son’s body in video\n",
            "2. ‘He lives like a king’: Video shows escaped drug lord’s lavish prison accommodations\n",
            "\n",
            "Cluster 2:\n",
            "1. US-Russian citizen arrested for treason, accused of collecting funds for Ukraine\n",
            "\n",
            "Cluster 3:\n",
            "1. Notorious drug lord’s prison escape threw Ecuador into chaos\n",
            "\n",
            "Cluster 4:\n",
            "1. Report: North Korean missile fired by Russia against Ukraine contained US and European components\n",
            "2. US vetoes UN resolution calling for immediate ceasefire in Gaza after proposing a temporary halt in fighting\n",
            "\n",
            "Cluster 5:\n",
            "1. Video shows Ukraine’s last moments of defense in Avdiivka\n",
            "\n",
            "Cluster 6:\n",
            "1. 2 Russian fighter jets shot down in east Ukraine, Air Force says\n",
            "\n",
            "Cluster 7:\n",
            "1. UN experts demand investigation into claims Israeli forces killed, raped and sexually assaulted Palestinian women and girls\n",
            "\n"
          ]
        }
      ]
    }
  ]
}