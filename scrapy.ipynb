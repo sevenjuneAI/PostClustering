{
  "nbformat": 4,
  "nbformat_minor": 0,
  "metadata": {
    "colab": {
      "provenance": [],
      "authorship_tag": "ABX9TyNZp+vupChFqY1VLxyGL8qF",
      "include_colab_link": true
    },
    "kernelspec": {
      "name": "python3",
      "display_name": "Python 3"
    },
    "language_info": {
      "name": "python"
    }
  },
  "cells": [
    {
      "cell_type": "markdown",
      "metadata": {
        "id": "view-in-github",
        "colab_type": "text"
      },
      "source": [
        "<a href=\"https://colab.research.google.com/github/sevenjunebaby/web-scrapying/blob/main/scrapy.ipynb\" target=\"_parent\"><img src=\"https://colab.research.google.com/assets/colab-badge.svg\" alt=\"Open In Colab\"/></a>"
      ]
    },
    {
      "cell_type": "markdown",
      "source": [
        "install scrapy first\n"
      ],
      "metadata": {
        "id": "noMu1c7OReJJ"
      }
    },
    {
      "cell_type": "code",
      "execution_count": 8,
      "metadata": {
        "colab": {
          "base_uri": "https://localhost:8080/"
        },
        "id": "NO1NwhdVP0sa",
        "outputId": "1edff191-d7b2-4b6f-dc62-2f23c0664eb2"
      },
      "outputs": [
        {
          "output_type": "stream",
          "name": "stdout",
          "text": [
            "Requirement already satisfied: scrapy in /usr/local/lib/python3.11/dist-packages (2.12.0)\n",
            "Requirement already satisfied: Twisted>=21.7.0 in /usr/local/lib/python3.11/dist-packages (from scrapy) (24.11.0)\n",
            "Requirement already satisfied: cryptography>=37.0.0 in /usr/local/lib/python3.11/dist-packages (from scrapy) (43.0.3)\n",
            "Requirement already satisfied: cssselect>=0.9.1 in /usr/local/lib/python3.11/dist-packages (from scrapy) (1.2.0)\n",
            "Requirement already satisfied: itemloaders>=1.0.1 in /usr/local/lib/python3.11/dist-packages (from scrapy) (1.3.2)\n",
            "Requirement already satisfied: parsel>=1.5.0 in /usr/local/lib/python3.11/dist-packages (from scrapy) (1.10.0)\n",
            "Requirement already satisfied: pyOpenSSL>=22.0.0 in /usr/local/lib/python3.11/dist-packages (from scrapy) (24.2.1)\n",
            "Requirement already satisfied: queuelib>=1.4.2 in /usr/local/lib/python3.11/dist-packages (from scrapy) (1.7.0)\n",
            "Requirement already satisfied: service-identity>=18.1.0 in /usr/local/lib/python3.11/dist-packages (from scrapy) (24.2.0)\n",
            "Requirement already satisfied: w3lib>=1.17.0 in /usr/local/lib/python3.11/dist-packages (from scrapy) (2.2.1)\n",
            "Requirement already satisfied: zope.interface>=5.1.0 in /usr/local/lib/python3.11/dist-packages (from scrapy) (7.2)\n",
            "Requirement already satisfied: protego>=0.1.15 in /usr/local/lib/python3.11/dist-packages (from scrapy) (0.4.0)\n",
            "Requirement already satisfied: itemadapter>=0.1.0 in /usr/local/lib/python3.11/dist-packages (from scrapy) (0.10.0)\n",
            "Requirement already satisfied: packaging in /usr/local/lib/python3.11/dist-packages (from scrapy) (24.2)\n",
            "Requirement already satisfied: tldextract in /usr/local/lib/python3.11/dist-packages (from scrapy) (5.1.3)\n",
            "Requirement already satisfied: lxml>=4.6.0 in /usr/local/lib/python3.11/dist-packages (from scrapy) (5.3.0)\n",
            "Requirement already satisfied: defusedxml>=0.7.1 in /usr/local/lib/python3.11/dist-packages (from scrapy) (0.7.1)\n",
            "Requirement already satisfied: PyDispatcher>=2.0.5 in /usr/local/lib/python3.11/dist-packages (from scrapy) (2.0.7)\n",
            "Requirement already satisfied: cffi>=1.12 in /usr/local/lib/python3.11/dist-packages (from cryptography>=37.0.0->scrapy) (1.17.1)\n",
            "Requirement already satisfied: jmespath>=0.9.5 in /usr/local/lib/python3.11/dist-packages (from itemloaders>=1.0.1->scrapy) (1.0.1)\n",
            "Requirement already satisfied: attrs>=19.1.0 in /usr/local/lib/python3.11/dist-packages (from service-identity>=18.1.0->scrapy) (24.3.0)\n",
            "Requirement already satisfied: pyasn1 in /usr/local/lib/python3.11/dist-packages (from service-identity>=18.1.0->scrapy) (0.6.1)\n",
            "Requirement already satisfied: pyasn1-modules in /usr/local/lib/python3.11/dist-packages (from service-identity>=18.1.0->scrapy) (0.4.1)\n",
            "Requirement already satisfied: automat>=24.8.0 in /usr/local/lib/python3.11/dist-packages (from Twisted>=21.7.0->scrapy) (24.8.1)\n",
            "Requirement already satisfied: constantly>=15.1 in /usr/local/lib/python3.11/dist-packages (from Twisted>=21.7.0->scrapy) (23.10.4)\n",
            "Requirement already satisfied: hyperlink>=17.1.1 in /usr/local/lib/python3.11/dist-packages (from Twisted>=21.7.0->scrapy) (21.0.0)\n",
            "Requirement already satisfied: incremental>=24.7.0 in /usr/local/lib/python3.11/dist-packages (from Twisted>=21.7.0->scrapy) (24.7.2)\n",
            "Requirement already satisfied: typing-extensions>=4.2.0 in /usr/local/lib/python3.11/dist-packages (from Twisted>=21.7.0->scrapy) (4.12.2)\n",
            "Requirement already satisfied: setuptools in /usr/local/lib/python3.11/dist-packages (from zope.interface>=5.1.0->scrapy) (75.1.0)\n",
            "Requirement already satisfied: idna in /usr/local/lib/python3.11/dist-packages (from tldextract->scrapy) (3.10)\n",
            "Requirement already satisfied: requests>=2.1.0 in /usr/local/lib/python3.11/dist-packages (from tldextract->scrapy) (2.32.3)\n",
            "Requirement already satisfied: requests-file>=1.4 in /usr/local/lib/python3.11/dist-packages (from tldextract->scrapy) (2.1.0)\n",
            "Requirement already satisfied: filelock>=3.0.8 in /usr/local/lib/python3.11/dist-packages (from tldextract->scrapy) (3.16.1)\n",
            "Requirement already satisfied: pycparser in /usr/local/lib/python3.11/dist-packages (from cffi>=1.12->cryptography>=37.0.0->scrapy) (2.22)\n",
            "Requirement already satisfied: charset-normalizer<4,>=2 in /usr/local/lib/python3.11/dist-packages (from requests>=2.1.0->tldextract->scrapy) (3.4.1)\n",
            "Requirement already satisfied: urllib3<3,>=1.21.1 in /usr/local/lib/python3.11/dist-packages (from requests>=2.1.0->tldextract->scrapy) (2.3.0)\n",
            "Requirement already satisfied: certifi>=2017.4.17 in /usr/local/lib/python3.11/dist-packages (from requests>=2.1.0->tldextract->scrapy) (2024.12.14)\n"
          ]
        }
      ],
      "source": [
        "!pip install scrapy"
      ]
    },
    {
      "cell_type": "code",
      "source": [
        "!scrapy startproject scrapweb"
      ],
      "metadata": {
        "colab": {
          "base_uri": "https://localhost:8080/"
        },
        "id": "i-60_Rd_B8qc",
        "outputId": "14107027-f984-4ada-b731-e97110188ecc"
      },
      "execution_count": 9,
      "outputs": [
        {
          "output_type": "stream",
          "name": "stdout",
          "text": [
            "New Scrapy project 'scrapweb', using template directory '/usr/local/lib/python3.11/dist-packages/scrapy/templates/project', created in:\n",
            "    /content/newyorktimes/newyorktimes/spiders/scrapweb\n",
            "\n",
            "You can start your first spider with:\n",
            "    cd scrapweb\n",
            "    scrapy genspider example example.com\n"
          ]
        }
      ]
    },
    {
      "cell_type": "code",
      "source": [
        "%cd scrapweb/scrapweb/spiders"
      ],
      "metadata": {
        "colab": {
          "base_uri": "https://localhost:8080/"
        },
        "id": "OabuCHe6CXUw",
        "outputId": "ffff5326-0c7a-4544-dddd-2d580a62a8c1"
      },
      "execution_count": 11,
      "outputs": [
        {
          "output_type": "stream",
          "name": "stdout",
          "text": [
            "/content/newyorktimes/newyorktimes/spiders/scrapweb/scrapweb/spiders\n"
          ]
        }
      ]
    },
    {
      "cell_type": "code",
      "source": [
        "!scrapy genspider sevenjunescrap https://quotes.toscrape.com/"
      ],
      "metadata": {
        "colab": {
          "base_uri": "https://localhost:8080/"
        },
        "id": "eog6JmcoCgB5",
        "outputId": "4aee10d1-4d81-4c90-ecb5-a1eb0fb2125b"
      },
      "execution_count": 12,
      "outputs": [
        {
          "output_type": "stream",
          "name": "stdout",
          "text": [
            "Created spider 'sevenjunescrap' using template 'basic' in module:\n",
            "  scrapweb.spiders.sevenjunescrap\n"
          ]
        }
      ]
    },
    {
      "cell_type": "code",
      "source": [
        "%%writefile sevenjunescrap.py\n",
        "\n",
        "import scrapy\n",
        "\n",
        "class sevenjunescrap(scrapy.Spider):\n",
        "    name = 'scrapweb'\n",
        "    start_urls = ['https://quotes.toscrape.com/']\n",
        "\n",
        "    def parse(self, response):\n",
        "        for quote in response.css('div.quote'):\n",
        "\n",
        "            yield {'quote': quote.css('span.text::text').get(),\n",
        "                   'author' : quote.css('small.author::text').get(),\n",
        "                   'tags' : quote.css('div.tags a.tag::text').getall(),\n",
        "            }\n",
        "        next_page=response.css('li.next a::attr(href)').get()\n",
        "        if next_page:\n",
        "            yield response.follow(next_page, self.parse)"
      ],
      "metadata": {
        "colab": {
          "base_uri": "https://localhost:8080/"
        },
        "id": "ErY6kUY-CrVg",
        "outputId": "82cbb8ca-af8e-426a-8486-22d21f98c8b8"
      },
      "execution_count": 21,
      "outputs": [
        {
          "output_type": "stream",
          "name": "stdout",
          "text": [
            "Overwriting sevenjunescrap.py\n"
          ]
        }
      ]
    },
    {
      "cell_type": "code",
      "source": [
        "!scrapy crawl scrapweb -o data.json"
      ],
      "metadata": {
        "colab": {
          "base_uri": "https://localhost:8080/"
        },
        "id": "GZXZAeKXGcOm",
        "outputId": "102bfeb1-eb3d-4902-ff4b-741c10cd7f8b"
      },
      "execution_count": 22,
      "outputs": [
        {
          "output_type": "stream",
          "name": "stdout",
          "text": [
            "2025-01-19 19:48:20 [scrapy.utils.log] INFO: Scrapy 2.12.0 started (bot: scrapweb)\n",
            "2025-01-19 19:48:20 [scrapy.utils.log] INFO: Versions: lxml 5.3.0.0, libxml2 2.12.9, cssselect 1.2.0, parsel 1.10.0, w3lib 2.2.1, Twisted 24.11.0, Python 3.11.11 (main, Dec  4 2024, 08:55:07) [GCC 11.4.0], pyOpenSSL 24.2.1 (OpenSSL 3.3.2 3 Sep 2024), cryptography 43.0.3, Platform Linux-6.1.85+-x86_64-with-glibc2.35\n",
            "2025-01-19 19:48:20 [scrapy.addons] INFO: Enabled addons:\n",
            "[]\n",
            "2025-01-19 19:48:20 [asyncio] DEBUG: Using selector: EpollSelector\n",
            "2025-01-19 19:48:20 [scrapy.utils.log] DEBUG: Using reactor: twisted.internet.asyncioreactor.AsyncioSelectorReactor\n",
            "2025-01-19 19:48:20 [scrapy.utils.log] DEBUG: Using asyncio event loop: asyncio.unix_events._UnixSelectorEventLoop\n",
            "2025-01-19 19:48:20 [scrapy.utils.log] DEBUG: Using reactor: twisted.internet.asyncioreactor.AsyncioSelectorReactor\n",
            "2025-01-19 19:48:20 [scrapy.utils.log] DEBUG: Using asyncio event loop: asyncio.unix_events._UnixSelectorEventLoop\n",
            "2025-01-19 19:48:20 [scrapy.extensions.telnet] INFO: Telnet Password: 34861517d344f559\n",
            "2025-01-19 19:48:20 [scrapy.middleware] INFO: Enabled extensions:\n",
            "['scrapy.extensions.corestats.CoreStats',\n",
            " 'scrapy.extensions.telnet.TelnetConsole',\n",
            " 'scrapy.extensions.memusage.MemoryUsage',\n",
            " 'scrapy.extensions.feedexport.FeedExporter',\n",
            " 'scrapy.extensions.logstats.LogStats']\n",
            "2025-01-19 19:48:20 [scrapy.crawler] INFO: Overridden settings:\n",
            "{'BOT_NAME': 'scrapweb',\n",
            " 'FEED_EXPORT_ENCODING': 'utf-8',\n",
            " 'NEWSPIDER_MODULE': 'scrapweb.spiders',\n",
            " 'ROBOTSTXT_OBEY': True,\n",
            " 'SPIDER_MODULES': ['scrapweb.spiders'],\n",
            " 'TWISTED_REACTOR': 'twisted.internet.asyncioreactor.AsyncioSelectorReactor'}\n",
            "2025-01-19 19:48:20 [scrapy.middleware] INFO: Enabled downloader middlewares:\n",
            "['scrapy.downloadermiddlewares.offsite.OffsiteMiddleware',\n",
            " 'scrapy.downloadermiddlewares.robotstxt.RobotsTxtMiddleware',\n",
            " 'scrapy.downloadermiddlewares.httpauth.HttpAuthMiddleware',\n",
            " 'scrapy.downloadermiddlewares.downloadtimeout.DownloadTimeoutMiddleware',\n",
            " 'scrapy.downloadermiddlewares.defaultheaders.DefaultHeadersMiddleware',\n",
            " 'scrapy.downloadermiddlewares.useragent.UserAgentMiddleware',\n",
            " 'scrapy.downloadermiddlewares.retry.RetryMiddleware',\n",
            " 'scrapy.downloadermiddlewares.redirect.MetaRefreshMiddleware',\n",
            " 'scrapy.downloadermiddlewares.httpcompression.HttpCompressionMiddleware',\n",
            " 'scrapy.downloadermiddlewares.redirect.RedirectMiddleware',\n",
            " 'scrapy.downloadermiddlewares.cookies.CookiesMiddleware',\n",
            " 'scrapy.downloadermiddlewares.httpproxy.HttpProxyMiddleware',\n",
            " 'scrapy.downloadermiddlewares.stats.DownloaderStats']\n",
            "2025-01-19 19:48:20 [scrapy.middleware] INFO: Enabled spider middlewares:\n",
            "['scrapy.spidermiddlewares.httperror.HttpErrorMiddleware',\n",
            " 'scrapy.spidermiddlewares.referer.RefererMiddleware',\n",
            " 'scrapy.spidermiddlewares.urllength.UrlLengthMiddleware',\n",
            " 'scrapy.spidermiddlewares.depth.DepthMiddleware']\n",
            "2025-01-19 19:48:20 [scrapy.middleware] INFO: Enabled item pipelines:\n",
            "[]\n",
            "2025-01-19 19:48:20 [scrapy.core.engine] INFO: Spider opened\n",
            "2025-01-19 19:48:20 [scrapy.extensions.logstats] INFO: Crawled 0 pages (at 0 pages/min), scraped 0 items (at 0 items/min)\n",
            "2025-01-19 19:48:20 [scrapy.extensions.telnet] INFO: Telnet console listening on 127.0.0.1:6023\n",
            "2025-01-19 19:48:21 [scrapy.core.engine] DEBUG: Crawled (404) <GET https://quotes.toscrape.com/robots.txt> (referer: None)\n",
            "2025-01-19 19:48:21 [scrapy.core.engine] DEBUG: Crawled (200) <GET https://quotes.toscrape.com/> (referer: None)\n",
            "2025-01-19 19:48:21 [scrapy.core.scraper] DEBUG: Scraped from <200 https://quotes.toscrape.com/>\n",
            "{'quote': '“The world as we have created it is a process of our thinking. It cannot be changed without changing our thinking.”', 'author': 'Albert Einstein', 'tags': ['change', 'deep-thoughts', 'thinking', 'world']}\n",
            "2025-01-19 19:48:21 [scrapy.core.scraper] DEBUG: Scraped from <200 https://quotes.toscrape.com/>\n",
            "{'quote': '“It is our choices, Harry, that show what we truly are, far more than our abilities.”', 'author': 'J.K. Rowling', 'tags': ['abilities', 'choices']}\n",
            "2025-01-19 19:48:21 [scrapy.core.scraper] DEBUG: Scraped from <200 https://quotes.toscrape.com/>\n",
            "{'quote': '“There are only two ways to live your life. One is as though nothing is a miracle. The other is as though everything is a miracle.”', 'author': 'Albert Einstein', 'tags': ['inspirational', 'life', 'live', 'miracle', 'miracles']}\n",
            "2025-01-19 19:48:21 [scrapy.core.scraper] DEBUG: Scraped from <200 https://quotes.toscrape.com/>\n",
            "{'quote': '“The person, be it gentleman or lady, who has not pleasure in a good novel, must be intolerably stupid.”', 'author': 'Jane Austen', 'tags': ['aliteracy', 'books', 'classic', 'humor']}\n",
            "2025-01-19 19:48:21 [scrapy.core.scraper] DEBUG: Scraped from <200 https://quotes.toscrape.com/>\n",
            "{'quote': \"“Imperfection is beauty, madness is genius and it's better to be absolutely ridiculous than absolutely boring.”\", 'author': 'Marilyn Monroe', 'tags': ['be-yourself', 'inspirational']}\n",
            "2025-01-19 19:48:21 [scrapy.core.scraper] DEBUG: Scraped from <200 https://quotes.toscrape.com/>\n",
            "{'quote': '“Try not to become a man of success. Rather become a man of value.”', 'author': 'Albert Einstein', 'tags': ['adulthood', 'success', 'value']}\n",
            "2025-01-19 19:48:21 [scrapy.core.scraper] DEBUG: Scraped from <200 https://quotes.toscrape.com/>\n",
            "{'quote': '“It is better to be hated for what you are than to be loved for what you are not.”', 'author': 'André Gide', 'tags': ['life', 'love']}\n",
            "2025-01-19 19:48:21 [scrapy.core.scraper] DEBUG: Scraped from <200 https://quotes.toscrape.com/>\n",
            "{'quote': \"“I have not failed. I've just found 10,000 ways that won't work.”\", 'author': 'Thomas A. Edison', 'tags': ['edison', 'failure', 'inspirational', 'paraphrased']}\n",
            "2025-01-19 19:48:21 [scrapy.core.scraper] DEBUG: Scraped from <200 https://quotes.toscrape.com/>\n",
            "{'quote': \"“A woman is like a tea bag; you never know how strong it is until it's in hot water.”\", 'author': 'Eleanor Roosevelt', 'tags': ['misattributed-eleanor-roosevelt']}\n",
            "2025-01-19 19:48:21 [scrapy.core.scraper] DEBUG: Scraped from <200 https://quotes.toscrape.com/>\n",
            "{'quote': '“A day without sunshine is like, you know, night.”', 'author': 'Steve Martin', 'tags': ['humor', 'obvious', 'simile']}\n",
            "2025-01-19 19:48:21 [scrapy.core.engine] DEBUG: Crawled (200) <GET https://quotes.toscrape.com/page/2/> (referer: https://quotes.toscrape.com/)\n",
            "2025-01-19 19:48:21 [scrapy.core.scraper] DEBUG: Scraped from <200 https://quotes.toscrape.com/page/2/>\n",
            "{'quote': \"“This life is what you make it. No matter what, you're going to mess up sometimes, it's a universal truth. But the good part is you get to decide how you're going to mess it up. Girls will be your friends - they'll act like it anyway. But just remember, some come, some go. The ones that stay with you through everything - they're your true best friends. Don't let go of them. Also remember, sisters make the best friends in the world. As for lovers, well, they'll come and go too. And baby, I hate to say it, most of them - actually pretty much all of them are going to break your heart, but you can't give up because if you give up, you'll never find your soulmate. You'll never find that half who makes you whole and that goes for everything. Just because you fail once, doesn't mean you're gonna fail at everything. Keep trying, hold on, and always, always, always believe in yourself, because if you don't, then who will, sweetie? So keep your head high, keep your chin up, and most importantly, keep smiling, because life's a beautiful thing and there's so much to smile about.”\", 'author': 'Marilyn Monroe', 'tags': ['friends', 'heartbreak', 'inspirational', 'life', 'love', 'sisters']}\n",
            "2025-01-19 19:48:21 [scrapy.core.scraper] DEBUG: Scraped from <200 https://quotes.toscrape.com/page/2/>\n",
            "{'quote': '“It takes a great deal of bravery to stand up to our enemies, but just as much to stand up to our friends.”', 'author': 'J.K. Rowling', 'tags': ['courage', 'friends']}\n",
            "2025-01-19 19:48:21 [scrapy.core.scraper] DEBUG: Scraped from <200 https://quotes.toscrape.com/page/2/>\n",
            "{'quote': \"“If you can't explain it to a six year old, you don't understand it yourself.”\", 'author': 'Albert Einstein', 'tags': ['simplicity', 'understand']}\n",
            "2025-01-19 19:48:21 [scrapy.core.scraper] DEBUG: Scraped from <200 https://quotes.toscrape.com/page/2/>\n",
            "{'quote': \"“You may not be her first, her last, or her only. She loved before she may love again. But if she loves you now, what else matters? She's not perfect—you aren't either, and the two of you may never be perfect together but if she can make you laugh, cause you to think twice, and admit to being human and making mistakes, hold onto her and give her the most you can. She may not be thinking about you every second of the day, but she will give you a part of her that she knows you can break—her heart. So don't hurt her, don't change her, don't analyze and don't expect more than she can give. Smile when she makes you happy, let her know when she makes you mad, and miss her when she's not there.”\", 'author': 'Bob Marley', 'tags': ['love']}\n",
            "2025-01-19 19:48:21 [scrapy.core.scraper] DEBUG: Scraped from <200 https://quotes.toscrape.com/page/2/>\n",
            "{'quote': '“I like nonsense, it wakes up the brain cells. Fantasy is a necessary ingredient in living.”', 'author': 'Dr. Seuss', 'tags': ['fantasy']}\n",
            "2025-01-19 19:48:21 [scrapy.core.scraper] DEBUG: Scraped from <200 https://quotes.toscrape.com/page/2/>\n",
            "{'quote': '“I may not have gone where I intended to go, but I think I have ended up where I needed to be.”', 'author': 'Douglas Adams', 'tags': ['life', 'navigation']}\n",
            "2025-01-19 19:48:21 [scrapy.core.scraper] DEBUG: Scraped from <200 https://quotes.toscrape.com/page/2/>\n",
            "{'quote': \"“The opposite of love is not hate, it's indifference. The opposite of art is not ugliness, it's indifference. The opposite of faith is not heresy, it's indifference. And the opposite of life is not death, it's indifference.”\", 'author': 'Elie Wiesel', 'tags': ['activism', 'apathy', 'hate', 'indifference', 'inspirational', 'love', 'opposite', 'philosophy']}\n",
            "2025-01-19 19:48:21 [scrapy.core.scraper] DEBUG: Scraped from <200 https://quotes.toscrape.com/page/2/>\n",
            "{'quote': '“It is not a lack of love, but a lack of friendship that makes unhappy marriages.”', 'author': 'Friedrich Nietzsche', 'tags': ['friendship', 'lack-of-friendship', 'lack-of-love', 'love', 'marriage', 'unhappy-marriage']}\n",
            "2025-01-19 19:48:21 [scrapy.core.scraper] DEBUG: Scraped from <200 https://quotes.toscrape.com/page/2/>\n",
            "{'quote': '“Good friends, good books, and a sleepy conscience: this is the ideal life.”', 'author': 'Mark Twain', 'tags': ['books', 'contentment', 'friends', 'friendship', 'life']}\n",
            "2025-01-19 19:48:21 [scrapy.core.scraper] DEBUG: Scraped from <200 https://quotes.toscrape.com/page/2/>\n",
            "{'quote': '“Life is what happens to us while we are making other plans.”', 'author': 'Allen Saunders', 'tags': ['fate', 'life', 'misattributed-john-lennon', 'planning', 'plans']}\n",
            "2025-01-19 19:48:21 [scrapy.core.engine] DEBUG: Crawled (200) <GET https://quotes.toscrape.com/page/3/> (referer: https://quotes.toscrape.com/page/2/)\n",
            "2025-01-19 19:48:21 [scrapy.core.scraper] DEBUG: Scraped from <200 https://quotes.toscrape.com/page/3/>\n",
            "{'quote': '“I love you without knowing how, or when, or from where. I love you simply, without problems or pride: I love you in this way because I do not know any other way of loving but this, in which there is no I or you, so intimate that your hand upon my chest is my hand, so intimate that when I fall asleep your eyes close.”', 'author': 'Pablo Neruda', 'tags': ['love', 'poetry']}\n",
            "2025-01-19 19:48:21 [scrapy.core.scraper] DEBUG: Scraped from <200 https://quotes.toscrape.com/page/3/>\n",
            "{'quote': '“For every minute you are angry you lose sixty seconds of happiness.”', 'author': 'Ralph Waldo Emerson', 'tags': ['happiness']}\n",
            "2025-01-19 19:48:21 [scrapy.core.scraper] DEBUG: Scraped from <200 https://quotes.toscrape.com/page/3/>\n",
            "{'quote': '“If you judge people, you have no time to love them.”', 'author': 'Mother Teresa', 'tags': ['attributed-no-source']}\n",
            "2025-01-19 19:48:21 [scrapy.core.scraper] DEBUG: Scraped from <200 https://quotes.toscrape.com/page/3/>\n",
            "{'quote': '“Anyone who thinks sitting in church can make you a Christian must also think that sitting in a garage can make you a car.”', 'author': 'Garrison Keillor', 'tags': ['humor', 'religion']}\n",
            "2025-01-19 19:48:21 [scrapy.core.scraper] DEBUG: Scraped from <200 https://quotes.toscrape.com/page/3/>\n",
            "{'quote': '“Beauty is in the eye of the beholder and it may be necessary from time to time to give a stupid or misinformed beholder a black eye.”', 'author': 'Jim Henson', 'tags': ['humor']}\n",
            "2025-01-19 19:48:21 [scrapy.core.scraper] DEBUG: Scraped from <200 https://quotes.toscrape.com/page/3/>\n",
            "{'quote': '“Today you are You, that is truer than true. There is no one alive who is Youer than You.”', 'author': 'Dr. Seuss', 'tags': ['comedy', 'life', 'yourself']}\n",
            "2025-01-19 19:48:21 [scrapy.core.scraper] DEBUG: Scraped from <200 https://quotes.toscrape.com/page/3/>\n",
            "{'quote': '“If you want your children to be intelligent, read them fairy tales. If you want them to be more intelligent, read them more fairy tales.”', 'author': 'Albert Einstein', 'tags': ['children', 'fairy-tales']}\n",
            "2025-01-19 19:48:21 [scrapy.core.scraper] DEBUG: Scraped from <200 https://quotes.toscrape.com/page/3/>\n",
            "{'quote': '“It is impossible to live without failing at something, unless you live so cautiously that you might as well not have lived at all - in which case, you fail by default.”', 'author': 'J.K. Rowling', 'tags': []}\n",
            "2025-01-19 19:48:21 [scrapy.core.scraper] DEBUG: Scraped from <200 https://quotes.toscrape.com/page/3/>\n",
            "{'quote': '“Logic will get you from A to Z; imagination will get you everywhere.”', 'author': 'Albert Einstein', 'tags': ['imagination']}\n",
            "2025-01-19 19:48:21 [scrapy.core.scraper] DEBUG: Scraped from <200 https://quotes.toscrape.com/page/3/>\n",
            "{'quote': '“One good thing about music, when it hits you, you feel no pain.”', 'author': 'Bob Marley', 'tags': ['music']}\n",
            "2025-01-19 19:48:21 [scrapy.core.engine] DEBUG: Crawled (200) <GET https://quotes.toscrape.com/page/4/> (referer: https://quotes.toscrape.com/page/3/)\n",
            "2025-01-19 19:48:21 [scrapy.core.scraper] DEBUG: Scraped from <200 https://quotes.toscrape.com/page/4/>\n",
            "{'quote': \"“The more that you read, the more things you will know. The more that you learn, the more places you'll go.”\", 'author': 'Dr. Seuss', 'tags': ['learning', 'reading', 'seuss']}\n",
            "2025-01-19 19:48:21 [scrapy.core.scraper] DEBUG: Scraped from <200 https://quotes.toscrape.com/page/4/>\n",
            "{'quote': '“Of course it is happening inside your head, Harry, but why on earth should that mean that it is not real?”', 'author': 'J.K. Rowling', 'tags': ['dumbledore']}\n",
            "2025-01-19 19:48:21 [scrapy.core.scraper] DEBUG: Scraped from <200 https://quotes.toscrape.com/page/4/>\n",
            "{'quote': '“The truth is, everyone is going to hurt you. You just got to find the ones worth suffering for.”', 'author': 'Bob Marley', 'tags': ['friendship']}\n",
            "2025-01-19 19:48:22 [scrapy.core.scraper] DEBUG: Scraped from <200 https://quotes.toscrape.com/page/4/>\n",
            "{'quote': '“Not all of us can do great things. But we can do small things with great love.”', 'author': 'Mother Teresa', 'tags': ['misattributed-to-mother-teresa', 'paraphrased']}\n",
            "2025-01-19 19:48:22 [scrapy.core.scraper] DEBUG: Scraped from <200 https://quotes.toscrape.com/page/4/>\n",
            "{'quote': '“To the well-organized mind, death is but the next great adventure.”', 'author': 'J.K. Rowling', 'tags': ['death', 'inspirational']}\n",
            "2025-01-19 19:48:22 [scrapy.core.scraper] DEBUG: Scraped from <200 https://quotes.toscrape.com/page/4/>\n",
            "{'quote': \"“All you need is love. But a little chocolate now and then doesn't hurt.”\", 'author': 'Charles M. Schulz', 'tags': ['chocolate', 'food', 'humor']}\n",
            "2025-01-19 19:48:22 [scrapy.core.scraper] DEBUG: Scraped from <200 https://quotes.toscrape.com/page/4/>\n",
            "{'quote': \"“We read to know we're not alone.”\", 'author': 'William Nicholson', 'tags': ['misattributed-to-c-s-lewis', 'reading']}\n",
            "2025-01-19 19:48:22 [scrapy.core.scraper] DEBUG: Scraped from <200 https://quotes.toscrape.com/page/4/>\n",
            "{'quote': '“Any fool can know. The point is to understand.”', 'author': 'Albert Einstein', 'tags': ['knowledge', 'learning', 'understanding', 'wisdom']}\n",
            "2025-01-19 19:48:22 [scrapy.core.scraper] DEBUG: Scraped from <200 https://quotes.toscrape.com/page/4/>\n",
            "{'quote': '“I have always imagined that Paradise will be a kind of library.”', 'author': 'Jorge Luis Borges', 'tags': ['books', 'library']}\n",
            "2025-01-19 19:48:22 [scrapy.core.scraper] DEBUG: Scraped from <200 https://quotes.toscrape.com/page/4/>\n",
            "{'quote': '“It is never too late to be what you might have been.”', 'author': 'George Eliot', 'tags': ['inspirational']}\n",
            "2025-01-19 19:48:22 [scrapy.core.engine] DEBUG: Crawled (200) <GET https://quotes.toscrape.com/page/5/> (referer: https://quotes.toscrape.com/page/4/)\n",
            "2025-01-19 19:48:22 [scrapy.core.scraper] DEBUG: Scraped from <200 https://quotes.toscrape.com/page/5/>\n",
            "{'quote': '“A reader lives a thousand lives before he dies, said Jojen. The man who never reads lives only one.”', 'author': 'George R.R. Martin', 'tags': ['read', 'readers', 'reading', 'reading-books']}\n",
            "2025-01-19 19:48:22 [scrapy.core.scraper] DEBUG: Scraped from <200 https://quotes.toscrape.com/page/5/>\n",
            "{'quote': '“You can never get a cup of tea large enough or a book long enough to suit me.”', 'author': 'C.S. Lewis', 'tags': ['books', 'inspirational', 'reading', 'tea']}\n",
            "2025-01-19 19:48:22 [scrapy.core.scraper] DEBUG: Scraped from <200 https://quotes.toscrape.com/page/5/>\n",
            "{'quote': '“You believe lies so you eventually learn to trust no one but yourself.”', 'author': 'Marilyn Monroe', 'tags': []}\n",
            "2025-01-19 19:48:22 [scrapy.core.scraper] DEBUG: Scraped from <200 https://quotes.toscrape.com/page/5/>\n",
            "{'quote': '“If you can make a woman laugh, you can make her do anything.”', 'author': 'Marilyn Monroe', 'tags': ['girls', 'love']}\n",
            "2025-01-19 19:48:22 [scrapy.core.scraper] DEBUG: Scraped from <200 https://quotes.toscrape.com/page/5/>\n",
            "{'quote': '“Life is like riding a bicycle. To keep your balance, you must keep moving.”', 'author': 'Albert Einstein', 'tags': ['life', 'simile']}\n",
            "2025-01-19 19:48:22 [scrapy.core.scraper] DEBUG: Scraped from <200 https://quotes.toscrape.com/page/5/>\n",
            "{'quote': '“The real lover is the man who can thrill you by kissing your forehead or smiling into your eyes or just staring into space.”', 'author': 'Marilyn Monroe', 'tags': ['love']}\n",
            "2025-01-19 19:48:22 [scrapy.core.scraper] DEBUG: Scraped from <200 https://quotes.toscrape.com/page/5/>\n",
            "{'quote': \"“A wise girl kisses but doesn't love, listens but doesn't believe, and leaves before she is left.”\", 'author': 'Marilyn Monroe', 'tags': ['attributed-no-source']}\n",
            "2025-01-19 19:48:22 [scrapy.core.scraper] DEBUG: Scraped from <200 https://quotes.toscrape.com/page/5/>\n",
            "{'quote': '“Only in the darkness can you see the stars.”', 'author': 'Martin Luther King Jr.', 'tags': ['hope', 'inspirational']}\n",
            "2025-01-19 19:48:22 [scrapy.core.scraper] DEBUG: Scraped from <200 https://quotes.toscrape.com/page/5/>\n",
            "{'quote': '“It matters not what someone is born, but what they grow to be.”', 'author': 'J.K. Rowling', 'tags': ['dumbledore']}\n",
            "2025-01-19 19:48:22 [scrapy.core.scraper] DEBUG: Scraped from <200 https://quotes.toscrape.com/page/5/>\n",
            "{'quote': '“Love does not begin and end the way we seem to think it does. Love is a battle, love is a war; love is a growing up.”', 'author': 'James Baldwin', 'tags': ['love']}\n",
            "2025-01-19 19:48:22 [scrapy.core.engine] DEBUG: Crawled (200) <GET https://quotes.toscrape.com/page/6/> (referer: https://quotes.toscrape.com/page/5/)\n",
            "2025-01-19 19:48:22 [scrapy.core.scraper] DEBUG: Scraped from <200 https://quotes.toscrape.com/page/6/>\n",
            "{'quote': '“There is nothing I would not do for those who are really my friends. I have no notion of loving people by halves, it is not my nature.”', 'author': 'Jane Austen', 'tags': ['friendship', 'love']}\n",
            "2025-01-19 19:48:22 [scrapy.core.scraper] DEBUG: Scraped from <200 https://quotes.toscrape.com/page/6/>\n",
            "{'quote': '“Do one thing every day that scares you.”', 'author': 'Eleanor Roosevelt', 'tags': ['attributed', 'fear', 'inspiration']}\n",
            "2025-01-19 19:48:22 [scrapy.core.scraper] DEBUG: Scraped from <200 https://quotes.toscrape.com/page/6/>\n",
            "{'quote': '“I am good, but not an angel. I do sin, but I am not the devil. I am just a small girl in a big world trying to find someone to love.”', 'author': 'Marilyn Monroe', 'tags': ['attributed-no-source']}\n",
            "2025-01-19 19:48:22 [scrapy.core.scraper] DEBUG: Scraped from <200 https://quotes.toscrape.com/page/6/>\n",
            "{'quote': '“If I were not a physicist, I would probably be a musician. I often think in music. I live my daydreams in music. I see my life in terms of music.”', 'author': 'Albert Einstein', 'tags': ['music']}\n",
            "2025-01-19 19:48:22 [scrapy.core.scraper] DEBUG: Scraped from <200 https://quotes.toscrape.com/page/6/>\n",
            "{'quote': '“If you only read the books that everyone else is reading, you can only think what everyone else is thinking.”', 'author': 'Haruki Murakami', 'tags': ['books', 'thought']}\n",
            "2025-01-19 19:48:22 [scrapy.core.scraper] DEBUG: Scraped from <200 https://quotes.toscrape.com/page/6/>\n",
            "{'quote': '“The difference between genius and stupidity is: genius has its limits.”', 'author': 'Alexandre Dumas fils', 'tags': ['misattributed-to-einstein']}\n",
            "2025-01-19 19:48:22 [scrapy.core.scraper] DEBUG: Scraped from <200 https://quotes.toscrape.com/page/6/>\n",
            "{'quote': \"“He's like a drug for you, Bella.”\", 'author': 'Stephenie Meyer', 'tags': ['drug', 'romance', 'simile']}\n",
            "2025-01-19 19:48:22 [scrapy.core.scraper] DEBUG: Scraped from <200 https://quotes.toscrape.com/page/6/>\n",
            "{'quote': '“There is no friend as loyal as a book.”', 'author': 'Ernest Hemingway', 'tags': ['books', 'friends', 'novelist-quotes']}\n",
            "2025-01-19 19:48:22 [scrapy.core.scraper] DEBUG: Scraped from <200 https://quotes.toscrape.com/page/6/>\n",
            "{'quote': '“When one door of happiness closes, another opens; but often we look so long at the closed door that we do not see the one which has been opened for us.”', 'author': 'Helen Keller', 'tags': ['inspirational']}\n",
            "2025-01-19 19:48:22 [scrapy.core.scraper] DEBUG: Scraped from <200 https://quotes.toscrape.com/page/6/>\n",
            "{'quote': \"“Life isn't about finding yourself. Life is about creating yourself.”\", 'author': 'George Bernard Shaw', 'tags': ['inspirational', 'life', 'yourself']}\n",
            "2025-01-19 19:48:22 [scrapy.core.engine] DEBUG: Crawled (200) <GET https://quotes.toscrape.com/page/7/> (referer: https://quotes.toscrape.com/page/6/)\n",
            "2025-01-19 19:48:22 [scrapy.core.scraper] DEBUG: Scraped from <200 https://quotes.toscrape.com/page/7/>\n",
            "{'quote': \"“That's the problem with drinking, I thought, as I poured myself a drink. If something bad happens you drink in an attempt to forget; if something good happens you drink in order to celebrate; and if nothing happens you drink to make something happen.”\", 'author': 'Charles Bukowski', 'tags': ['alcohol']}\n",
            "2025-01-19 19:48:22 [scrapy.core.scraper] DEBUG: Scraped from <200 https://quotes.toscrape.com/page/7/>\n",
            "{'quote': '“You don’t forget the face of the person who was your last hope.”', 'author': 'Suzanne Collins', 'tags': ['the-hunger-games']}\n",
            "2025-01-19 19:48:22 [scrapy.core.scraper] DEBUG: Scraped from <200 https://quotes.toscrape.com/page/7/>\n",
            "{'quote': \"“Remember, we're madly in love, so it's all right to kiss me anytime you feel like it.”\", 'author': 'Suzanne Collins', 'tags': ['humor']}\n",
            "2025-01-19 19:48:22 [scrapy.core.scraper] DEBUG: Scraped from <200 https://quotes.toscrape.com/page/7/>\n",
            "{'quote': '“To love at all is to be vulnerable. Love anything and your heart will be wrung and possibly broken. If you want to make sure of keeping it intact you must give it to no one, not even an animal. Wrap it carefully round with hobbies and little luxuries; avoid all entanglements. Lock it up safe in the casket or coffin of your selfishness. But in that casket, safe, dark, motionless, airless, it will change. It will not be broken; it will become unbreakable, impenetrable, irredeemable. To love is to be vulnerable.”', 'author': 'C.S. Lewis', 'tags': ['love']}\n",
            "2025-01-19 19:48:22 [scrapy.core.scraper] DEBUG: Scraped from <200 https://quotes.toscrape.com/page/7/>\n",
            "{'quote': '“Not all those who wander are lost.”', 'author': 'J.R.R. Tolkien', 'tags': ['bilbo', 'journey', 'lost', 'quest', 'travel', 'wander']}\n",
            "2025-01-19 19:48:22 [scrapy.core.scraper] DEBUG: Scraped from <200 https://quotes.toscrape.com/page/7/>\n",
            "{'quote': '“Do not pity the dead, Harry. Pity the living, and, above all those who live without love.”', 'author': 'J.K. Rowling', 'tags': ['live-death-love']}\n",
            "2025-01-19 19:48:22 [scrapy.core.scraper] DEBUG: Scraped from <200 https://quotes.toscrape.com/page/7/>\n",
            "{'quote': '“There is nothing to writing. All you do is sit down at a typewriter and bleed.”', 'author': 'Ernest Hemingway', 'tags': ['good', 'writing']}\n",
            "2025-01-19 19:48:22 [scrapy.core.scraper] DEBUG: Scraped from <200 https://quotes.toscrape.com/page/7/>\n",
            "{'quote': '“Finish each day and be done with it. You have done what you could. Some blunders and absurdities no doubt crept in; forget them as soon as you can. Tomorrow is a new day. You shall begin it serenely and with too high a spirit to be encumbered with your old nonsense.”', 'author': 'Ralph Waldo Emerson', 'tags': ['life', 'regrets']}\n",
            "2025-01-19 19:48:22 [scrapy.core.scraper] DEBUG: Scraped from <200 https://quotes.toscrape.com/page/7/>\n",
            "{'quote': '“I have never let my schooling interfere with my education.”', 'author': 'Mark Twain', 'tags': ['education']}\n",
            "2025-01-19 19:48:22 [scrapy.core.scraper] DEBUG: Scraped from <200 https://quotes.toscrape.com/page/7/>\n",
            "{'quote': \"“I have heard there are troubles of more than one kind. Some come from ahead and some come from behind. But I've bought a big bat. I'm all ready you see. Now my troubles are going to have troubles with me!”\", 'author': 'Dr. Seuss', 'tags': ['troubles']}\n",
            "2025-01-19 19:48:22 [scrapy.core.engine] DEBUG: Crawled (200) <GET https://quotes.toscrape.com/page/8/> (referer: https://quotes.toscrape.com/page/7/)\n",
            "2025-01-19 19:48:22 [scrapy.core.scraper] DEBUG: Scraped from <200 https://quotes.toscrape.com/page/8/>\n",
            "{'quote': '“If I had a flower for every time I thought of you...I could walk through my garden forever.”', 'author': 'Alfred Tennyson', 'tags': ['friendship', 'love']}\n",
            "2025-01-19 19:48:22 [scrapy.core.scraper] DEBUG: Scraped from <200 https://quotes.toscrape.com/page/8/>\n",
            "{'quote': '“Some people never go crazy. What truly horrible lives they must lead.”', 'author': 'Charles Bukowski', 'tags': ['humor']}\n",
            "2025-01-19 19:48:22 [scrapy.core.scraper] DEBUG: Scraped from <200 https://quotes.toscrape.com/page/8/>\n",
            "{'quote': '“The trouble with having an open mind, of course, is that people will insist on coming along and trying to put things in it.”', 'author': 'Terry Pratchett', 'tags': ['humor', 'open-mind', 'thinking']}\n",
            "2025-01-19 19:48:22 [scrapy.core.scraper] DEBUG: Scraped from <200 https://quotes.toscrape.com/page/8/>\n",
            "{'quote': '“Think left and think right and think low and think high. Oh, the thinks you can think up if only you try!”', 'author': 'Dr. Seuss', 'tags': ['humor', 'philosophy']}\n",
            "2025-01-19 19:48:22 [scrapy.core.scraper] DEBUG: Scraped from <200 https://quotes.toscrape.com/page/8/>\n",
            "{'quote': \"“What really knocks me out is a book that, when you're all done reading it, you wish the author that wrote it was a terrific friend of yours and you could call him up on the phone whenever you felt like it. That doesn't happen much, though.”\", 'author': 'J.D. Salinger', 'tags': ['authors', 'books', 'literature', 'reading', 'writing']}\n",
            "2025-01-19 19:48:22 [scrapy.core.scraper] DEBUG: Scraped from <200 https://quotes.toscrape.com/page/8/>\n",
            "{'quote': '“The reason I talk to myself is because I’m the only one whose answers I accept.”', 'author': 'George Carlin', 'tags': ['humor', 'insanity', 'lies', 'lying', 'self-indulgence', 'truth']}\n",
            "2025-01-19 19:48:22 [scrapy.core.scraper] DEBUG: Scraped from <200 https://quotes.toscrape.com/page/8/>\n",
            "{'quote': \"“You may say I'm a dreamer, but I'm not the only one. I hope someday you'll join us. And the world will live as one.”\", 'author': 'John Lennon', 'tags': ['beatles', 'connection', 'dreamers', 'dreaming', 'dreams', 'hope', 'inspirational', 'peace']}\n",
            "2025-01-19 19:48:22 [scrapy.core.scraper] DEBUG: Scraped from <200 https://quotes.toscrape.com/page/8/>\n",
            "{'quote': '“I am free of all prejudice. I hate everyone equally. ”', 'author': 'W.C. Fields', 'tags': ['humor', 'sinister']}\n",
            "2025-01-19 19:48:22 [scrapy.core.scraper] DEBUG: Scraped from <200 https://quotes.toscrape.com/page/8/>\n",
            "{'quote': \"“The question isn't who is going to let me; it's who is going to stop me.”\", 'author': 'Ayn Rand', 'tags': []}\n",
            "2025-01-19 19:48:22 [scrapy.core.scraper] DEBUG: Scraped from <200 https://quotes.toscrape.com/page/8/>\n",
            "{'quote': \"“′Classic′ - a book which people praise and don't read.”\", 'author': 'Mark Twain', 'tags': ['books', 'classic', 'reading']}\n",
            "2025-01-19 19:48:22 [scrapy.core.engine] DEBUG: Crawled (200) <GET https://quotes.toscrape.com/page/9/> (referer: https://quotes.toscrape.com/page/8/)\n",
            "2025-01-19 19:48:22 [scrapy.core.scraper] DEBUG: Scraped from <200 https://quotes.toscrape.com/page/9/>\n",
            "{'quote': '“Anyone who has never made a mistake has never tried anything new.”', 'author': 'Albert Einstein', 'tags': ['mistakes']}\n",
            "2025-01-19 19:48:22 [scrapy.core.scraper] DEBUG: Scraped from <200 https://quotes.toscrape.com/page/9/>\n",
            "{'quote': \"“A lady's imagination is very rapid; it jumps from admiration to love, from love to matrimony in a moment.”\", 'author': 'Jane Austen', 'tags': ['humor', 'love', 'romantic', 'women']}\n",
            "2025-01-19 19:48:22 [scrapy.core.scraper] DEBUG: Scraped from <200 https://quotes.toscrape.com/page/9/>\n",
            "{'quote': '“Remember, if the time should come when you have to make a choice between what is right and what is easy, remember what happened to a boy who was good, and kind, and brave, because he strayed across the path of Lord Voldemort. Remember Cedric Diggory.”', 'author': 'J.K. Rowling', 'tags': ['integrity']}\n",
            "2025-01-19 19:48:22 [scrapy.core.scraper] DEBUG: Scraped from <200 https://quotes.toscrape.com/page/9/>\n",
            "{'quote': '“I declare after all there is no enjoyment like reading! How much sooner one tires of any thing than of a book! -- When I have a house of my own, I shall be miserable if I have not an excellent library.”', 'author': 'Jane Austen', 'tags': ['books', 'library', 'reading']}\n",
            "2025-01-19 19:48:22 [scrapy.core.scraper] DEBUG: Scraped from <200 https://quotes.toscrape.com/page/9/>\n",
            "{'quote': '“There are few people whom I really love, and still fewer of whom I think well. The more I see of the world, the more am I dissatisfied with it; and every day confirms my belief of the inconsistency of all human characters, and of the little dependence that can be placed on the appearance of merit or sense.”', 'author': 'Jane Austen', 'tags': ['elizabeth-bennet', 'jane-austen']}\n",
            "2025-01-19 19:48:22 [scrapy.core.scraper] DEBUG: Scraped from <200 https://quotes.toscrape.com/page/9/>\n",
            "{'quote': '“Some day you will be old enough to start reading fairy tales again.”', 'author': 'C.S. Lewis', 'tags': ['age', 'fairytales', 'growing-up']}\n",
            "2025-01-19 19:48:22 [scrapy.core.scraper] DEBUG: Scraped from <200 https://quotes.toscrape.com/page/9/>\n",
            "{'quote': '“We are not necessarily doubting that God will do the best for us; we are wondering how painful the best will turn out to be.”', 'author': 'C.S. Lewis', 'tags': ['god']}\n",
            "2025-01-19 19:48:22 [scrapy.core.scraper] DEBUG: Scraped from <200 https://quotes.toscrape.com/page/9/>\n",
            "{'quote': '“The fear of death follows from the fear of life. A man who lives fully is prepared to die at any time.”', 'author': 'Mark Twain', 'tags': ['death', 'life']}\n",
            "2025-01-19 19:48:22 [scrapy.core.scraper] DEBUG: Scraped from <200 https://quotes.toscrape.com/page/9/>\n",
            "{'quote': '“A lie can travel half way around the world while the truth is putting on its shoes.”', 'author': 'Mark Twain', 'tags': ['misattributed-mark-twain', 'truth']}\n",
            "2025-01-19 19:48:22 [scrapy.core.scraper] DEBUG: Scraped from <200 https://quotes.toscrape.com/page/9/>\n",
            "{'quote': '“I believe in Christianity as I believe that the sun has risen: not only because I see it, but because by it I see everything else.”', 'author': 'C.S. Lewis', 'tags': ['christianity', 'faith', 'religion', 'sun']}\n",
            "2025-01-19 19:48:22 [scrapy.core.engine] DEBUG: Crawled (200) <GET https://quotes.toscrape.com/page/10/> (referer: https://quotes.toscrape.com/page/9/)\n",
            "2025-01-19 19:48:23 [scrapy.core.scraper] DEBUG: Scraped from <200 https://quotes.toscrape.com/page/10/>\n",
            "{'quote': '“The truth.\" Dumbledore sighed. \"It is a beautiful and terrible thing, and should therefore be treated with great caution.”', 'author': 'J.K. Rowling', 'tags': ['truth']}\n",
            "2025-01-19 19:48:23 [scrapy.core.scraper] DEBUG: Scraped from <200 https://quotes.toscrape.com/page/10/>\n",
            "{'quote': \"“I'm the one that's got to die when it's time for me to die, so let me live my life the way I want to.”\", 'author': 'Jimi Hendrix', 'tags': ['death', 'life']}\n",
            "2025-01-19 19:48:23 [scrapy.core.scraper] DEBUG: Scraped from <200 https://quotes.toscrape.com/page/10/>\n",
            "{'quote': '“To die will be an awfully big adventure.”', 'author': 'J.M. Barrie', 'tags': ['adventure', 'love']}\n",
            "2025-01-19 19:48:23 [scrapy.core.scraper] DEBUG: Scraped from <200 https://quotes.toscrape.com/page/10/>\n",
            "{'quote': '“It takes courage to grow up and become who you really are.”', 'author': 'E.E. Cummings', 'tags': ['courage']}\n",
            "2025-01-19 19:48:23 [scrapy.core.scraper] DEBUG: Scraped from <200 https://quotes.toscrape.com/page/10/>\n",
            "{'quote': '“But better to get hurt by the truth than comforted with a lie.”', 'author': 'Khaled Hosseini', 'tags': ['life']}\n",
            "2025-01-19 19:48:23 [scrapy.core.scraper] DEBUG: Scraped from <200 https://quotes.toscrape.com/page/10/>\n",
            "{'quote': '“You never really understand a person until you consider things from his point of view... Until you climb inside of his skin and walk around in it.”', 'author': 'Harper Lee', 'tags': ['better-life-empathy']}\n",
            "2025-01-19 19:48:23 [scrapy.core.scraper] DEBUG: Scraped from <200 https://quotes.toscrape.com/page/10/>\n",
            "{'quote': '“You have to write the book that wants to be written. And if the book will be too difficult for grown-ups, then you write it for children.”', 'author': \"Madeleine L'Engle\", 'tags': ['books', 'children', 'difficult', 'grown-ups', 'write', 'writers', 'writing']}\n",
            "2025-01-19 19:48:23 [scrapy.core.scraper] DEBUG: Scraped from <200 https://quotes.toscrape.com/page/10/>\n",
            "{'quote': '“Never tell the truth to people who are not worthy of it.”', 'author': 'Mark Twain', 'tags': ['truth']}\n",
            "2025-01-19 19:48:23 [scrapy.core.scraper] DEBUG: Scraped from <200 https://quotes.toscrape.com/page/10/>\n",
            "{'quote': \"“A person's a person, no matter how small.”\", 'author': 'Dr. Seuss', 'tags': ['inspirational']}\n",
            "2025-01-19 19:48:23 [scrapy.core.scraper] DEBUG: Scraped from <200 https://quotes.toscrape.com/page/10/>\n",
            "{'quote': '“... a mind needs books as a sword needs a whetstone, if it is to keep its edge.”', 'author': 'George R.R. Martin', 'tags': ['books', 'mind']}\n",
            "2025-01-19 19:48:23 [scrapy.core.engine] INFO: Closing spider (finished)\n",
            "2025-01-19 19:48:23 [scrapy.extensions.feedexport] INFO: Stored json feed (100 items) in: data.json\n",
            "2025-01-19 19:48:23 [scrapy.statscollectors] INFO: Dumping Scrapy stats:\n",
            "{'downloader/request_bytes': 2901,\n",
            " 'downloader/request_count': 11,\n",
            " 'downloader/request_method_count/GET': 11,\n",
            " 'downloader/response_bytes': 110917,\n",
            " 'downloader/response_count': 11,\n",
            " 'downloader/response_status_count/200': 10,\n",
            " 'downloader/response_status_count/404': 1,\n",
            " 'elapsed_time_seconds': 2.14044,\n",
            " 'feedexport/success_count/FileFeedStorage': 1,\n",
            " 'finish_reason': 'finished',\n",
            " 'finish_time': datetime.datetime(2025, 1, 19, 19, 48, 23, 104729, tzinfo=datetime.timezone.utc),\n",
            " 'item_scraped_count': 100,\n",
            " 'items_per_minute': None,\n",
            " 'log_count/DEBUG': 116,\n",
            " 'log_count/INFO': 11,\n",
            " 'memusage/max': 294469632,\n",
            " 'memusage/startup': 294469632,\n",
            " 'request_depth_max': 9,\n",
            " 'response_received_count': 11,\n",
            " 'responses_per_minute': None,\n",
            " 'robotstxt/request_count': 1,\n",
            " 'robotstxt/response_count': 1,\n",
            " 'robotstxt/response_status_count/404': 1,\n",
            " 'scheduler/dequeued': 10,\n",
            " 'scheduler/dequeued/memory': 10,\n",
            " 'scheduler/enqueued': 10,\n",
            " 'scheduler/enqueued/memory': 10,\n",
            " 'start_time': datetime.datetime(2025, 1, 19, 19, 48, 20, 964289, tzinfo=datetime.timezone.utc)}\n",
            "2025-01-19 19:48:23 [scrapy.core.engine] INFO: Spider closed (finished)\n"
          ]
        }
      ]
    }
  ]
}